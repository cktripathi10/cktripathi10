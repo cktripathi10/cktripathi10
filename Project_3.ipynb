{
  "cells": [
    {
      "cell_type": "markdown",
      "metadata": {
        "id": "view-in-github",
        "colab_type": "text"
      },
      "source": [
        "<a href=\"https://colab.research.google.com/github/cktripathi10/cktripathi10/blob/main/Project_3.ipynb\" target=\"_parent\"><img src=\"https://colab.research.google.com/assets/colab-badge.svg\" alt=\"Open In Colab\"/></a>"
      ]
    },
    {
      "cell_type": "markdown",
      "source": [
        "Project 3: (10 points)\n",
        "your total (50 points) will divided by 5 to get 10 points for this project."
      ],
      "metadata": {
        "id": "YgFXKWl_g6Ar"
      }
    },
    {
      "cell_type": "markdown",
      "source": [
        "\n",
        "In this project, we will focus on the preprocessing step before building the model.\n",
        "\n",
        "We will prepare data before making a Market basket analysis, which is an algorithm originally designed to help retailers understand and improve their businesses.\n",
        "\n",
        "Also, we will do some important preprocessing step before building an unsupervised model for Customer Segments."
      ],
      "metadata": {
        "id": "ejBaMIsShJNl"
      }
    },
    {
      "cell_type": "markdown",
      "source": [
        "### Market Basket Analysis\n",
        "---\n",
        "Imagine you work for a retailer that sells dozens of products and your boss comes to you and asks the following questions:\n",
        "\n",
        "* What products are purchased together most frequently?\n",
        "* How should the products be organized and positioned in the store?\n",
        "* How do we identify the best products to discount via coupons?\n",
        "---\n",
        "##### You might reasonably respond with complete bewilderment, as those questions are very diverse and do not immediately seem answerable using a single algorithm and dataset. However, the answer to all those questions and many more is market basket analysis.\n",
        "--\n",
        "### Dataset:\n",
        "you can find the dataset on Canvas under Dataset section: \"Online Retail.xlsx\""
      ],
      "metadata": {
        "id": "da1OV543hvGv"
      }
    },
    {
      "cell_type": "markdown",
      "source": [
        "### Steps to do:\n",
        "\n",
        "1- Open a Jupyter notebook.\n",
        "\n",
        "2- Install the following libraries, if not installed, and then import them:\n",
        "* matplotlib.pyplot, which is used to plot the results of the models.\n",
        "* mlxtend.frequent_patterns, which is used to run the models;\n",
        "* mlxtend.preprocessing, which is used to encode and prep the data for the models;\n",
        "* numpy, which is used to work with arrays;\n",
        "* pandas, which is used to work with DataFrames."
      ],
      "metadata": {
        "id": "wwcIjv_FkKq8"
      }
    },
    {
      "cell_type": "code",
      "source": [
        "import matplotlib.pyplot as plt\n",
        "import mlxtend.frequent_patterns\n",
        "import mlxtend.preprocessing\n",
        "import numpy\n",
        "import pandas"
      ],
      "metadata": {
        "id": "dCLgo8JqkQMK"
      },
      "execution_count": null,
      "outputs": []
    },
    {
      "cell_type": "markdown",
      "source": [
        "3- Loading Data ( 1 point)\n",
        "\n",
        "Load and view online retail dataset.Once you have downloaded the dataset, save it and note the path."
      ],
      "metadata": {
        "id": "cWG1Fz66kW7q"
      }
    },
    {
      "cell_type": "code",
      "source": [
        "# write your code here\n"
      ],
      "metadata": {
        "id": "8mie-OzSkeNd"
      },
      "execution_count": null,
      "outputs": []
    },
    {
      "cell_type": "markdown",
      "source": [
        "4- Print out the first 10 rows of the DataFrame. ( 1 point)\n",
        "\n",
        "Notice that the data contains some columns that will not be relevant to market basket analysis:"
      ],
      "metadata": {
        "id": "KMTXKPNMkksH"
      }
    },
    {
      "cell_type": "code",
      "source": [
        "# write your code here\n"
      ],
      "metadata": {
        "id": "JzDdJ6Zlknig"
      },
      "execution_count": null,
      "outputs": []
    },
    {
      "cell_type": "markdown",
      "source": [
        "5- Print out the data type for each column in the DataFrame. (1 point)\n",
        "\n",
        "This information will come in handy when trying to perform specific cleaning tasks. Columns need to be of the correct type in order for filtering and computing to execute as expected:"
      ],
      "metadata": {
        "id": "XjzSRKYQkqny"
      }
    },
    {
      "cell_type": "code",
      "source": [
        "# write your code here\n"
      ],
      "metadata": {
        "id": "xQumi7oWksza"
      },
      "execution_count": null,
      "outputs": []
    },
    {
      "cell_type": "markdown",
      "source": [
        "6- Get and print the dimensions of the DataFrame, as well as the number of unique invoice numbers and customer identifications (2 points)"
      ],
      "metadata": {
        "id": "IwxWJbQskwAM"
      }
    },
    {
      "cell_type": "code",
      "source": [
        "# write your code here\n",
        "\n"
      ],
      "metadata": {
        "id": "9fecqG66kyUM"
      },
      "execution_count": null,
      "outputs": []
    },
    {
      "cell_type": "markdown",
      "source": [
        "7- Data Cleaning and Formatting:\n",
        "\n",
        "a. Create an indicator column stipulating whether the invoice number begins with \"C\". Called the column \"IsCPresent\" ( 1 points)"
      ],
      "metadata": {
        "id": "4W8ph75ck1lu"
      }
    },
    {
      "cell_type": "code",
      "source": [
        "# write your code here\n"
      ],
      "metadata": {
        "id": "h66BgH-gk4o7"
      },
      "execution_count": null,
      "outputs": []
    },
    {
      "cell_type": "markdown",
      "source": [
        "b. (3 points)\n",
        "- Filter out all transactions having either zero or a negative number of items (in other words, items were returned),\n",
        "- Remove all invoice numbers starting with \"C\" using the column created in previous step\n",
        "- Subset the DataFrame down to InvoiceNo and Description\n",
        "- Drop all rows with at least one missing value.\n",
        "- Rename the DataFrame online1 and print out the first 10 rows of the filtered DataFrame, online1."
      ],
      "metadata": {
        "id": "29SGnBKUk5vx"
      }
    },
    {
      "cell_type": "code",
      "source": [
        "# write your code here\n",
        "\n"
      ],
      "metadata": {
        "id": "pjoR-GvqolGm"
      },
      "execution_count": null,
      "outputs": []
    },
    {
      "cell_type": "markdown",
      "source": [
        "c. Approximately, how many rows and invoice numbers have already removed? ( 2 points)\n",
        "\n",
        "--\n",
        "### Edit to write your answer here"
      ],
      "metadata": {
        "id": "nKviaPYklDWn"
      }
    },
    {
      "cell_type": "code",
      "source": [
        "#write your code here to prove your answer:\n"
      ],
      "metadata": {
        "id": "DDD6mTJRlFus"
      },
      "execution_count": null,
      "outputs": []
    },
    {
      "cell_type": "markdown",
      "source": [
        "d. (2 points)\n",
        "- Extract the invoice numbers from the DataFrame as a list.\n",
        "- Remove duplicate elements to create a list of unique invoice numbers.\n",
        "- Confirm that the process was successful by printing the length of the list of unique invoice numbers."
      ],
      "metadata": {
        "id": "lUjagck4lXNV"
      }
    },
    {
      "cell_type": "code",
      "source": [
        "# write your code here\n",
        "\n",
        "\n"
      ],
      "metadata": {
        "id": "2zBLgtfKla5p"
      },
      "execution_count": null,
      "outputs": []
    },
    {
      "cell_type": "markdown",
      "source": [
        "e. Take the list from step d and cut it to only include the first 5,000 elements. Print out the length of the new list to confirm that it is, in fact, the expected length of 5,000( 1 point)"
      ],
      "metadata": {
        "id": "Bgt43yxElen8"
      }
    },
    {
      "cell_type": "code",
      "source": [
        "# write your code here\n"
      ],
      "metadata": {
        "id": "CZAyLfinliQx"
      },
      "execution_count": null,
      "outputs": []
    },
    {
      "cell_type": "markdown",
      "source": [
        "f. Filter the online1 DataFrame down by only keeping the invoice numbers in the list from step e and print out the first 10 rows of online1( 1 point)"
      ],
      "metadata": {
        "id": "pVgjErInlmQH"
      }
    },
    {
      "cell_type": "code",
      "source": [
        "# write your code here\n"
      ],
      "metadata": {
        "id": "1OVhCiwglpsD"
      },
      "execution_count": null,
      "outputs": []
    },
    {
      "cell_type": "markdown",
      "source": [
        "g. Print out the dimensions of the DataFrame (online1) and the number of unique invoice numbers to confirm that the filtering and cleaning process was successful (1 point)"
      ],
      "metadata": {
        "id": "a0qukXPhlrGY"
      }
    },
    {
      "cell_type": "code",
      "source": [
        "# write your code here\n"
      ],
      "metadata": {
        "id": "jGEjdeV_lwdy"
      },
      "execution_count": null,
      "outputs": []
    },
    {
      "cell_type": "markdown",
      "source": [
        "h. Transform the data in online1 into the aforementioned list of lists called invoice_item_list. The process for doing this is to iterate over the unique invoice numbers and, at each iteration, extract the item descriptions as a list and append that list to the larger invoice_item_list list. Print out elements one through four of the list (2 points)"
      ],
      "metadata": {
        "id": "ELrV7XgAl1or"
      }
    },
    {
      "cell_type": "code",
      "source": [
        "# write your code here\n"
      ],
      "metadata": {
        "id": "A3TjwnQ1ouSB"
      },
      "execution_count": null,
      "outputs": []
    },
    {
      "cell_type": "markdown",
      "source": [
        "8- Data Encoding\n",
        "\n",
        "While cleaning the data is crucial, the most important part of the data preparation process is molding the data into the correct form. Before running the models, the data, currently in the list of lists form, needs to be encoded and recast as a DataFrame.\n",
        "\n",
        "To do this, we will leverage TransactionEncoder from the preprocessing module of mlxtend. The output from the encoder is a multidimensional array, where each row is the length of the total number of unique items in the transaction dataset and the elements are Boolean variables, indicating whether that particular item is linked to the invoice number that row represents. With the data encoded, we can recast it as a DataFrame where the rows are the invoice numbers and the columns are the unique items in the transaction dataset.\n",
        "\n",
        "The data encoding will be done using mlxtend, but if you wish to encode the data without using a package, you are free.\n",
        "\n",
        "More info about mlxtend in the link: https://rasbt.github.io/mlxtend/\n",
        "\n",
        "a. Initialize and fit the transaction encoder. Print out an example of the resulting data. (2 points)"
      ],
      "metadata": {
        "id": "LGDI2Nt9l8yK"
      }
    },
    {
      "cell_type": "code",
      "source": [
        "# write your code here\n",
        "\n"
      ],
      "metadata": {
        "id": "c8JKo9ecmC5o"
      },
      "execution_count": null,
      "outputs": []
    },
    {
      "cell_type": "markdown",
      "source": [
        "b. Recast the encoded array as a DataFrame named online_encoder_df. Print the predefined subset of the DataFrame that features both True and False values (2 points)"
      ],
      "metadata": {
        "id": "E3ElUp84mF_4"
      }
    },
    {
      "cell_type": "code",
      "source": [
        "# write your code here\n"
      ],
      "metadata": {
        "id": "oX9c8MZ4l5BM"
      },
      "execution_count": null,
      "outputs": []
    },
    {
      "cell_type": "markdown",
      "source": [
        "c. Print out the dimensions of the encoded DataFrame. It should have 5,000 rows because the data used to generate it was previously filtered down to 5,000 unique invoice numbers. (1 point)"
      ],
      "metadata": {
        "id": "FDG6mHIao4Es"
      }
    },
    {
      "cell_type": "code",
      "source": [
        "# write your code here\n"
      ],
      "metadata": {
        "id": "qbneZjbKk__P"
      },
      "execution_count": null,
      "outputs": []
    },
    {
      "cell_type": "markdown",
      "source": [
        "#### The data is now prepared for modeling.\n",
        "---"
      ],
      "metadata": {
        "id": "MDepnejUpB7u"
      }
    },
    {
      "cell_type": "markdown",
      "source": [
        "### Wholesale Data\n",
        "\n",
        "we will analyze a dataset containing data on various customers' annual spending amounts (reported in monetary units) of diverse product categories for internal structure. One goal of this project is to best describe the variation in the different types of customers that a wholesale distributor interacts with. Doing so would equip the distributor with insight into how to best structure their delivery service to meet the needs of each customer.\n",
        "\n",
        "--\n",
        "### Dataset:\n",
        "you can find the dataset on Canvas under Dataset section: \"wholesale_customers_data.csv\""
      ],
      "metadata": {
        "id": "Q7gpFsB0pbvv"
      }
    },
    {
      "cell_type": "code",
      "execution_count": null,
      "metadata": {
        "ExecuteTime": {
          "end_time": "2018-01-09T00:25:36.756020Z",
          "start_time": "2018-01-09T00:25:34.246895Z"
        },
        "id": "7cLIlYcgY9Rm"
      },
      "outputs": [],
      "source": [
        "import pandas as pd\n",
        "import numpy as np\n",
        "from numpy.linalg import inv\n",
        "from numpy.random import uniform, multivariate_normal, rand, randn, seed\n",
        "from itertools import repeat\n",
        "from time import time\n",
        "import matplotlib.pyplot as plt\n",
        "from mpl_toolkits.mplot3d import Axes3D\n",
        "from matplotlib import gridspec\n",
        "from matplotlib.colors import to_rgba\n",
        "import seaborn as sns\n",
        "from sklearn.decomposition import PCA\n",
        "from sklearn.neighbors import LocalOutlierFactor\n",
        "from scipy.stats import jarque_bera, normaltest\n",
        "import matplotlib.pyplot as plt\n",
        "import scipy.stats as stats\n"
      ]
    },
    {
      "cell_type": "markdown",
      "source": [
        "1. Load the wholesale customers dataset (1 point)"
      ],
      "metadata": {
        "id": "IzbwQeO4aKVm"
      }
    },
    {
      "cell_type": "code",
      "source": [
        "# write your code here\n"
      ],
      "metadata": {
        "id": "AajRmspuZRC9"
      },
      "execution_count": null,
      "outputs": []
    },
    {
      "cell_type": "markdown",
      "metadata": {
        "id": "7eQ2Jd7EY9Rr"
      },
      "source": [
        "2. Drop Channel & Region and print the current columns ( 1 point)"
      ]
    },
    {
      "cell_type": "code",
      "execution_count": null,
      "metadata": {
        "id": "h_evyZTkY9Rr"
      },
      "outputs": [],
      "source": [
        "# write your code here\n"
      ]
    },
    {
      "cell_type": "markdown",
      "source": [
        "### Data Exploration:\n",
        "\n",
        "You will begin exploring the data through visualizations and code to understand how each feature is related to the others.\n",
        "\n"
      ],
      "metadata": {
        "id": "QvnWgHF9asOQ"
      }
    },
    {
      "cell_type": "markdown",
      "source": [
        "3. Show a statistical summary for each of the above product categories. (1 point)"
      ],
      "metadata": {
        "id": "uTctTSJ6a8hK"
      }
    },
    {
      "cell_type": "code",
      "source": [
        "# write your code here\n"
      ],
      "metadata": {
        "id": "11D_uRrca-Yw"
      },
      "execution_count": null,
      "outputs": []
    },
    {
      "cell_type": "markdown",
      "source": [
        "4. Show a visual representation of the distribution of each feature in the data.using histogram and normal probability plot. (2 points)"
      ],
      "metadata": {
        "id": "KIqPMCGbetH_"
      }
    },
    {
      "cell_type": "code",
      "source": [
        "# write your code here\n",
        "\n",
        "# Loop through columns and create plots\n"
      ],
      "metadata": {
        "id": "Cp5YvpMeeVWs"
      },
      "execution_count": null,
      "outputs": []
    },
    {
      "cell_type": "markdown",
      "source": [
        "5. What do you observe about distribution? (2 points)\n"
      ],
      "metadata": {
        "id": "-VuXd_rFgPrO"
      }
    },
    {
      "cell_type": "markdown",
      "source": [
        "6. Scale the sample data using the natural logarithm ( 1 point)"
      ],
      "metadata": {
        "id": "ov4OTKllgxMm"
      }
    },
    {
      "cell_type": "code",
      "execution_count": null,
      "metadata": {
        "ExecuteTime": {
          "end_time": "2018-01-03T17:10:28.892773Z",
          "start_time": "2018-01-03T17:10:28.868660Z"
        },
        "id": "4qwfGhObY9Rs"
      },
      "outputs": [],
      "source": [
        "# Scale the data using the natural logarithm\n"
      ]
    },
    {
      "cell_type": "markdown",
      "metadata": {
        "id": "UgXuDjy6Y9Rs"
      },
      "source": [
        "7. Check for Outliers using boxplot ( 2 points)"
      ]
    },
    {
      "cell_type": "code",
      "execution_count": null,
      "metadata": {
        "ExecuteTime": {
          "end_time": "2018-01-03T17:23:35.742049Z",
          "start_time": "2018-01-03T17:23:35.387142Z"
        },
        "id": "4EzHxzioY9Rs"
      },
      "outputs": [],
      "source": [
        "# write your code here\n"
      ]
    },
    {
      "cell_type": "markdown",
      "metadata": {
        "id": "RsfUPldMY9Rt"
      },
      "source": [
        "8. Apply natural log to transform long tails and plot the Log Sales Distribution using violinplot (2 points)"
      ]
    },
    {
      "cell_type": "code",
      "execution_count": null,
      "metadata": {
        "ExecuteTime": {
          "end_time": "2018-01-09T00:25:46.809372Z",
          "start_time": "2018-01-09T00:25:46.801858Z"
        },
        "id": "HFGfqobgY9Rt"
      },
      "outputs": [],
      "source": [
        "# write your code here\n"
      ]
    },
    {
      "cell_type": "code",
      "execution_count": null,
      "metadata": {
        "ExecuteTime": {
          "end_time": "2018-01-09T00:25:48.120698Z",
          "start_time": "2018-01-09T00:25:47.688194Z"
        },
        "id": "QbP-SwVjY9Ru"
      },
      "outputs": [],
      "source": [
        "# write your code here\n"
      ]
    },
    {
      "cell_type": "markdown",
      "metadata": {
        "id": "NTTUDaYiY9Ru"
      },
      "source": [
        "9. Remove Outliers using LocalOutlierFactor and plot the Log Sales Distribution using violinplot after removing the outliers. (2 points)"
      ]
    },
    {
      "cell_type": "code",
      "execution_count": null,
      "metadata": {
        "ExecuteTime": {
          "end_time": "2018-01-09T00:25:53.467056Z",
          "start_time": "2018-01-09T00:25:53.009368Z"
        },
        "id": "4EjMvELnY9Ru"
      },
      "outputs": [],
      "source": [
        "# write your code here\n"
      ]
    },
    {
      "cell_type": "markdown",
      "source": [
        "10. use sns.pairplot to visualize Feature Distributions in your cleaned data (2 points)"
      ],
      "metadata": {
        "id": "DTQfRuqnnlqP"
      }
    },
    {
      "cell_type": "code",
      "execution_count": null,
      "metadata": {
        "ExecuteTime": {
          "end_time": "2018-01-09T00:26:09.478209Z",
          "start_time": "2018-01-09T00:26:03.113570Z"
        },
        "scrolled": false,
        "id": "TsvNguxrY9Rv"
      },
      "outputs": [],
      "source": [
        "# write your code here\n"
      ]
    },
    {
      "cell_type": "markdown",
      "source": [
        "11. Check for Correlations using sns.clustermap (2 points)"
      ],
      "metadata": {
        "id": "Xtlvfcy0oJP2"
      }
    },
    {
      "cell_type": "code",
      "execution_count": null,
      "metadata": {
        "ExecuteTime": {
          "end_time": "2018-01-03T17:51:17.695669Z",
          "start_time": "2018-01-03T17:51:17.115826Z"
        },
        "id": "WVeUwRwOY9Rv"
      },
      "outputs": [],
      "source": [
        "# write your code here\n"
      ]
    },
    {
      "cell_type": "markdown",
      "source": [
        "12. What do you observe? (2 points)\n"
      ],
      "metadata": {
        "id": "SaDQtJENonfo"
      }
    },
    {
      "cell_type": "markdown",
      "source": [
        "### PCA\n",
        "Now that the data has been scaled to a more normal distribution and has had any necessary outliers removed, we can now apply PCA to the cleaned data to discover which dimensions about the data best maximize the variance of features involved."
      ],
      "metadata": {
        "id": "3qvdRmo3o94w"
      }
    },
    {
      "cell_type": "markdown",
      "metadata": {
        "id": "Aow-OTm8Y9Rv"
      },
      "source": [
        "13. Biplot: Visualizing Product Relationships in 2D (2 points)"
      ]
    },
    {
      "cell_type": "code",
      "execution_count": null,
      "metadata": {
        "id": "Yd0sVx_xY9Rv"
      },
      "outputs": [],
      "source": [
        "# write your code here\n"
      ]
    },
    {
      "cell_type": "markdown",
      "source": [
        "14. Use sns.jointplot to plot x and y in the above code (2 points)"
      ],
      "metadata": {
        "id": "bpS5TE22rep3"
      }
    },
    {
      "cell_type": "code",
      "execution_count": null,
      "metadata": {
        "id": "cjVBuPnPY9Rw"
      },
      "outputs": [],
      "source": [
        "# write your code here\n"
      ]
    },
    {
      "cell_type": "markdown",
      "metadata": {
        "id": "djAr92bOY9Rw"
      },
      "source": [
        "15. Exploring the new Descriptors of the cleand Data using plot.bar (2 points)"
      ]
    },
    {
      "cell_type": "code",
      "execution_count": null,
      "metadata": {
        "ExecuteTime": {
          "end_time": "2018-01-03T17:54:14.727601Z",
          "start_time": "2018-01-03T17:54:14.195007Z"
        },
        "id": "hkJ86sB8Y9Rw"
      },
      "outputs": [],
      "source": [
        "# write your code here\n"
      ]
    },
    {
      "cell_type": "markdown",
      "source": [
        "16. How much approximately the first and second features of explain of variance in total? (1 point)\n",
        "\n"
      ],
      "metadata": {
        "id": "PXkjQDNos9Ds"
      }
    },
    {
      "cell_type": "markdown",
      "source": [
        "---\n",
        "## All set\n",
        "\n",
        "Please make sure you execute each cell before you submit your file; this is important because if your code didn't work on our machine for an unknown reason, it would be better to see the result rather than losing some points or wasting time to contact you to fix this issue.\n",
        "\n",
        "What to submit:\n",
        "\n",
        "* Your Jupyter Notebook file.\n",
        "* Name your file as firstname_lastname_pj_3 .\n",
        "---"
      ],
      "metadata": {
        "id": "c-iskuujgGlC"
      }
    }
  ],
  "metadata": {
    "celltoolbar": "Slideshow",
    "hide_input": false,
    "kernelspec": {
      "display_name": "Python 3",
      "language": "python",
      "name": "python3"
    },
    "language_info": {
      "codemirror_mode": {
        "name": "ipython",
        "version": 3
      },
      "file_extension": ".py",
      "mimetype": "text/x-python",
      "name": "python",
      "nbconvert_exporter": "python",
      "pygments_lexer": "ipython3",
      "version": "3.6.3"
    },
    "colab": {
      "provenance": [],
      "include_colab_link": true
    }
  },
  "nbformat": 4,
  "nbformat_minor": 0
}